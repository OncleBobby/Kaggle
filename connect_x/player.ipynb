{
 "cells": [
  {
   "cell_type": "code",
   "execution_count": 7,
   "metadata": {},
   "outputs": [],
   "source": [
    "agent_path = 'submission.py'\n",
    "default_agent_path = 'agents/default.py'\n",
    "num_episodes = 10"
   ]
  },
  {
   "cell_type": "code",
   "execution_count": 9,
   "metadata": {},
   "outputs": [
    {
     "name": "stdout",
     "output_type": "stream",
     "text": [
      "My Agent vs Default Agent: -0.2\n",
      "My Agent vs Random Agent: 0.0\n",
      "My Agent vs Negamax Agent: -1.0\n"
     ]
    }
   ],
   "source": [
    "from tools import valide_agent, get_agent, battle\n",
    "agent = get_agent(default_agent_path)\n",
    "if valide_agent(agent):\n",
    "    # Run multiple episodes to estimate its performance.\n",
    "    print(\"My Agent vs Default Agent:\", battle(agent, get_agent(default_agent_path), num_episodes))\n",
    "    print(\"My Agent vs Random Agent:\", battle(agent, \"random\", num_episodes))\n",
    "    print(\"My Agent vs Negamax Agent:\", battle(agent, \"negamax\", num_episodes))\n",
    "else:\n",
    "    print('Not a valide agent !')"
   ]
  }
 ],
 "metadata": {
  "kernelspec": {
   "display_name": "Python 3",
   "language": "python",
   "name": "python3"
  },
  "language_info": {
   "codemirror_mode": {
    "name": "ipython",
    "version": 3
   },
   "file_extension": ".py",
   "mimetype": "text/x-python",
   "name": "python",
   "nbconvert_exporter": "python",
   "pygments_lexer": "ipython3",
   "version": "3.10.10"
  },
  "orig_nbformat": 4
 },
 "nbformat": 4,
 "nbformat_minor": 2
}
