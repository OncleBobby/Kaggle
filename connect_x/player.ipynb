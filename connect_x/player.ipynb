{
 "cells": [
  {
   "cell_type": "code",
   "execution_count": 1,
   "metadata": {},
   "outputs": [],
   "source": [
    "agent_path = 'submission.py'"
   ]
  },
  {
   "cell_type": "code",
   "execution_count": 2,
   "metadata": {},
   "outputs": [
    {
     "name": "stdout",
     "output_type": "stream",
     "text": [
      "No pygame installed, ignoring import\n",
      "Loading environment lux_ai_s2 failed: No module named 'gym'\n"
     ]
    }
   ],
   "source": [
    "import sys\n",
    "from kaggle_environments import evaluate, make, utils\n",
    "from kaggle_environments.agent import get_last_callable\n",
    "env = make(\"connectx\", debug=True)\n",
    "def get_agent(path):\n",
    "    submission = utils.read_file(path)\n",
    "    return get_last_callable(submission, path=path)\n",
    "def valide_agent(agent):\n",
    "    env = make(\"connectx\", debug=True)\n",
    "    env.run([agent, agent])\n",
    "    return env.state[0].status == env.state[1].status == \"DONE\"\n",
    "def mean_reward(rewards):\n",
    "    return sum(r[0] for r in rewards) / float(len(rewards))"
   ]
  },
  {
   "cell_type": "code",
   "execution_count": 5,
   "metadata": {},
   "outputs": [
    {
     "name": "stdout",
     "output_type": "stream",
     "text": [
      "My Agent vs Random Agent: -0.2\n",
      "My Agent vs Negamax Agent: -1.0\n"
     ]
    }
   ],
   "source": [
    "my_agent = get_agent(agent_path)\n",
    "if valide_agent(my_agent):\n",
    "    # Run multiple episodes to estimate its performance.\n",
    "    print(\"My Agent vs Random Agent:\", mean_reward(evaluate(\"connectx\", [my_agent, \"random\"], num_episodes=10)))\n",
    "    print(\"My Agent vs Negamax Agent:\", mean_reward(evaluate(\"connectx\", [my_agent, \"negamax\"], num_episodes=10)))\n",
    "else:\n",
    "    print('Not a valide agent !')"
   ]
  }
 ],
 "metadata": {
  "kernelspec": {
   "display_name": "Python 3",
   "language": "python",
   "name": "python3"
  },
  "language_info": {
   "codemirror_mode": {
    "name": "ipython",
    "version": 3
   },
   "file_extension": ".py",
   "mimetype": "text/x-python",
   "name": "python",
   "nbconvert_exporter": "python",
   "pygments_lexer": "ipython3",
   "version": "3.10.10"
  },
  "orig_nbformat": 4
 },
 "nbformat": 4,
 "nbformat_minor": 2
}
